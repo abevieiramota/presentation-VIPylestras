{
 "metadata": {
  "name": "",
  "signature": "sha256:c5bceecc2d88d653444dc38c5afb9869c4ca56b1620ef509e0c2c14f99d91c5a"
 },
 "nbformat": 3,
 "nbformat_minor": 0,
 "worksheets": [
  {
   "cells": [
    {
     "cell_type": "heading",
     "level": 1,
     "metadata": {
      "slideshow": {
       "slide_type": "slide"
      }
     },
     "source": [
      "O que \u00e9 Machine Learning?"
     ]
    },
    {
     "cell_type": "heading",
     "level": 2,
     "metadata": {
      "slideshow": {
       "slide_type": "slide"
      }
     },
     "source": [
      "OCR - Optical Character Recognition"
     ]
    },
    {
     "cell_type": "markdown",
     "metadata": {},
     "source": [
      "<img src='Images/reverse_centaur.jpg' width='600' align='left'/> <h1 style='color:red;font-size:50px'>&nbsp;&nbsp;&nbsp;&nbsp;&nbsp;Nobody likes <br />&nbsp;&nbsp;Reverse Centaur</h1>"
     ]
    },
    {
     "cell_type": "heading",
     "level": 2,
     "metadata": {
      "slideshow": {
       "slide_type": "slide"
      }
     },
     "source": [
      "NLP - Natural Language Processing"
     ]
    },
    {
     "cell_type": "markdown",
     "metadata": {},
     "source": [
      "<img src='Images/cobain_suicide_letter.jpg' width='500' align='left'/> "
     ]
    },
    {
     "cell_type": "heading",
     "level": 2,
     "metadata": {
      "slideshow": {
       "slide_type": "slide"
      }
     },
     "source": [
      "Facial recognition"
     ]
    },
    {
     "cell_type": "markdown",
     "metadata": {},
     "source": [
      "<img src='Images/facial_recognition.jpg' width='500' align='left'/>"
     ]
    },
    {
     "cell_type": "heading",
     "level": 2,
     "metadata": {
      "slideshow": {
       "slide_type": "slide"
      }
     },
     "source": [
      "Accelerometer Biometric Competition"
     ]
    },
    {
     "cell_type": "markdown",
     "metadata": {},
     "source": [
      "<img src=\"Images/accele_compet.jpg\" align=\"left\" width=\"500\"/><a href=\"http://www.kaggle.com/c/accelerometer-biometric-competition\">P\u00e1gina do Kaggle</a>"
     ]
    },
    {
     "cell_type": "heading",
     "level": 2,
     "metadata": {
      "slideshow": {
       "slide_type": "slide"
      }
     },
     "source": [
      "Outros"
     ]
    },
    {
     "cell_type": "markdown",
     "metadata": {},
     "source": [
      "- Speech Recognition\n",
      "- Autonomous vehicles\n",
      "- Play chess\n",
      "- Medical diagnosis\n",
      "- Classifyind DNA sequences\n",
      "- Software Engineering metrics\n",
      "- Recommender systems"
     ]
    },
    {
     "cell_type": "heading",
     "level": 2,
     "metadata": {
      "slideshow": {
       "slide_type": "slide"
      }
     },
     "source": [
      "Defini\u00e7\u00e3o"
     ]
    },
    {
     "cell_type": "markdown",
     "metadata": {},
     "source": [
      "O que h\u00e1 em comum entre esses problemas? Alguns pontos:\n",
      "\n",
      "- Dif\u00edceis(imposs\u00edveis?) de formalizar\n",
      "- Se formaliz\u00e1vel, invi\u00e1vel computacionalmente - chess\n",
      "- Humanos aprendem atrav\u00e9s da experi\u00eancia\n",
      "\n",
      "**Machine Learning**, Tom Mitchell\n",
      "\n",
      "> **Definition**: *A computer program is said to **learn** from experience E with respect to some class of tasks T and performance measure P, if its performance at tasks in T, as measured by P, improves with experience E.*\n",
      "\n",
      "Machine Learning, ent\u00e3o, \u00e9 a \u00e1rea que estuda os sistemas que aprendem, de acordo com a defini\u00e7\u00e3o acima."
     ]
    },
    {
     "cell_type": "heading",
     "level": 2,
     "metadata": {
      "slideshow": {
       "slide_type": "slide"
      }
     },
     "source": [
      "Paradigmas"
     ]
    },
    {
     "cell_type": "markdown",
     "metadata": {
      "slideshow": {
       "slide_type": "slide"
      }
     },
     "source": [
      "- Supervised Learning\n",
      "    - Classification\n",
      "    - Regression\n",
      "    <img src='Images/super_learn.png' width='500' />"
     ]
    },
    {
     "cell_type": "markdown",
     "metadata": {
      "slideshow": {
       "slide_type": "slide"
      }
     },
     "source": [
      "- Unsupervised Learning\n",
      "    - Clustering\n",
      "    <img src=\"Images/unsuper_learn.png\" width=\"500\" />"
     ]
    },
    {
     "cell_type": "markdown",
     "metadata": {
      "slideshow": {
       "slide_type": "slide"
      }
     },
     "source": [
      "- Reinforcement Learning\n",
      "- Deep Learning\n",
      "- outros"
     ]
    },
    {
     "cell_type": "heading",
     "level": 1,
     "metadata": {
      "slideshow": {
       "slide_type": "slide"
      }
     },
     "source": [
      "Processo de desenvolvimento"
     ]
    },
    {
     "cell_type": "markdown",
     "metadata": {},
     "source": [
      "Question -> Input data -> Features -> Algorithm -> Parameters -> Evaluation"
     ]
    },
    {
     "cell_type": "heading",
     "level": 2,
     "metadata": {
      "slideshow": {
       "slide_type": "slide"
      }
     },
     "source": [
      "Question"
     ]
    },
    {
     "cell_type": "markdown",
     "metadata": {},
     "source": [
      "<img src='Images/great_idea.png' width='400' align='left'/>"
     ]
    },
    {
     "cell_type": "heading",
     "level": 2,
     "metadata": {
      "slideshow": {
       "slide_type": "slide"
      }
     },
     "source": [
      "Input Data"
     ]
    },
    {
     "cell_type": "markdown",
     "metadata": {},
     "source": [
      "<img src='Images/data.jpg' width='400' align='left' />"
     ]
    },
    {
     "cell_type": "heading",
     "level": 2,
     "metadata": {
      "slideshow": {
       "slide_type": "slide"
      }
     },
     "source": [
      "Features"
     ]
    },
    {
     "cell_type": "markdown",
     "metadata": {},
     "source": [
      "<img src='Images/vampire.png' width='400' align='left' />"
     ]
    },
    {
     "cell_type": "heading",
     "level": 2,
     "metadata": {
      "slideshow": {
       "slide_type": "slide"
      }
     },
     "source": [
      "Algorithm, Parameters"
     ]
    },
    {
     "cell_type": "markdown",
     "metadata": {},
     "source": [
      "<img src='Images/svm.png' width='400' align='left' />"
     ]
    },
    {
     "cell_type": "heading",
     "level": 2,
     "metadata": {
      "slideshow": {
       "slide_type": "slide"
      }
     },
     "source": [
      "Evaluation"
     ]
    },
    {
     "cell_type": "markdown",
     "metadata": {},
     "source": [
      "<img src='Images/exam.jpg' width='400' align='left' />"
     ]
    },
    {
     "cell_type": "heading",
     "level": 1,
     "metadata": {
      "slideshow": {
       "slide_type": "slide"
      }
     },
     "source": [
      "Background"
     ]
    },
    {
     "cell_type": "markdown",
     "metadata": {},
     "source": [
      "- Statistics\n",
      "- Calculus\n",
      "- Linear Algebra"
     ]
    }
   ],
   "metadata": {}
  }
 ]
}