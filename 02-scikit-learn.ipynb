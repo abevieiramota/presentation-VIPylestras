{
 "metadata": {
  "name": "",
  "signature": "sha256:8bb95fe231cdcfe94567b6d528fd828bd445a606759b331d76320168be8fa8d5"
 },
 "nbformat": 3,
 "nbformat_minor": 0,
 "worksheets": []
}