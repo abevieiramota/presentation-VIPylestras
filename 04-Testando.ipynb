{
 "metadata": {
  "name": "",
  "signature": "sha256:54283566359a8ad510a97811575a7bf255bf3c7b43e9b5d71f68668dfedeb6d5"
 },
 "nbformat": 3,
 "nbformat_minor": 0,
 "worksheets": [
  {
   "cells": [
    {
     "cell_type": "code",
     "collapsed": false,
     "input": [
      "import pickle\n",
      "from matplotlib import pyplot as pl\n",
      "from skimage import data\n",
      "import numpy as np\n",
      "%run util.py\n",
      "%matplotlib inline"
     ],
     "language": "python",
     "metadata": {},
     "outputs": []
    },
    {
     "cell_type": "code",
     "collapsed": false,
     "input": [
      "model = pickle.load(open(MODEL_NAME, 'r'))"
     ],
     "language": "python",
     "metadata": {},
     "outputs": []
    },
    {
     "cell_type": "code",
     "collapsed": false,
     "input": [
      "# usar brush 20\n",
      "imagem = data.imread('josino.png', as_grey=True)\n",
      "# TODO: por que?\n",
      "imagem = 16 - imagem*16\n",
      "\n",
      "fig = pl.figure(figsize=(3, 3))\n",
      "ax = fig.add_subplot(1,1,1)\n",
      "ax.imshow(imagem, cmap=CMAP, interpolation='nearest')"
     ],
     "language": "python",
     "metadata": {},
     "outputs": []
    },
    {
     "cell_type": "code",
     "collapsed": false,
     "input": [
      "model.predict(imagem.ravel())"
     ],
     "language": "python",
     "metadata": {},
     "outputs": []
    }
   ],
   "metadata": {}
  }
 ]
}