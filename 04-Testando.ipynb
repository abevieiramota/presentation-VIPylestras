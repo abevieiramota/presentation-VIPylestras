{
 "metadata": {
  "name": "",
  "signature": "sha256:f3bc4f45b166c31af2f396fe04ac8f168b7a0b691271c7d0253e6d73e1ef037e"
 },
 "nbformat": 3,
 "nbformat_minor": 0,
 "worksheets": [
  {
   "cells": [
    {
     "cell_type": "code",
     "collapsed": false,
     "input": [
      "import pickle\n",
      "from matplotlib import pyplot as pl\n",
      "from skimage import data\n",
      "import numpy as np\n",
      "%run util.py\n",
      "%matplotlib inline"
     ],
     "language": "python",
     "metadata": {},
     "outputs": [],
     "prompt_number": 1
    },
    {
     "cell_type": "code",
     "collapsed": false,
     "input": [
      "model = pickle.load(open(MODEL_NAME, 'r'))"
     ],
     "language": "python",
     "metadata": {},
     "outputs": [],
     "prompt_number": 2
    },
    {
     "cell_type": "code",
     "collapsed": false,
     "input": [
      "# usar brush 20\n",
      "imagem = data.imread('josino.png', as_grey=True)\n",
      "# TODO: por que?\n",
      "imagem = 16 - imagem*16\n",
      "\n",
      "fig = pl.figure(figsize=(3, 3))\n",
      "ax = fig.add_subplot(1,1,1)\n",
      "ax.imshow(imagem, cmap=CMAP, interpolation='nearest')"
     ],
     "language": "python",
     "metadata": {},
     "outputs": [
      {
       "metadata": {},
       "output_type": "pyout",
       "prompt_number": 9,
       "text": [
        "<matplotlib.image.AxesImage at 0x7fb55fc98f50>"
       ]
      },
      {
       "metadata": {},
       "output_type": "display_data",
       "png": "[encoded data removed]",
       "text": [
        "<matplotlib.figure.Figure at 0x7fb55fc45550>"
       ]
      }
     ],
     "prompt_number": 9
    },
    {
     "cell_type": "code",
     "collapsed": false,
     "input": [
      "model.predict(imagem.ravel())"
     ],
     "language": "python",
     "metadata": {},
     "outputs": [
      {
       "metadata": {},
       "output_type": "pyout",
       "prompt_number": 10,
       "text": [
        "array([1])"
       ]
      }
     ],
     "prompt_number": 10
    },
    {
     "cell_type": "code",
     "collapsed": false,
     "input": [],
     "language": "python",
     "metadata": {},
     "outputs": []
    }
   ],
   "metadata": {}
  }
 ]
}