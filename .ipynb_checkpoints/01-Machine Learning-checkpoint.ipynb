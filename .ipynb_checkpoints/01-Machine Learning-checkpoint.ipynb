{
 "metadata": {
  "name": "",
  "signature": "sha256:5676af6113d6379b4b8280ccc9286e08dc80daa83654e156aa7de09b5bb535f9"
 },
 "nbformat": 3,
 "nbformat_minor": 0,
 "worksheets": [
  {
   "cells": [
    {
     "cell_type": "heading",
     "level": 1,
     "metadata": {},
     "source": [
      "O que \u00e9 Machine Learning?"
     ]
    },
    {
     "cell_type": "heading",
     "level": 2,
     "metadata": {},
     "source": [
      "OCR - Optical Character Recognition"
     ]
    },
    {
     "cell_type": "markdown",
     "metadata": {},
     "source": [
      "<img src='Images/reverse_centaur.jpg' width='400' align='left'/> <h1 style='color:red;font-size:50px'>&nbsp;&nbsp;&nbsp;&nbsp;&nbsp;Nobody likes <br />&nbsp;&nbsp;Reverse Centaur</h1>"
     ]
    },
    {
     "cell_type": "heading",
     "level": 2,
     "metadata": {},
     "source": [
      "NLP - Natural Language Processing"
     ]
    },
    {
     "cell_type": "markdown",
     "metadata": {},
     "source": [
      "<img src='Images/cobain_suicide_letter.jpg' width='400' align='left'/> "
     ]
    },
    {
     "cell_type": "heading",
     "level": 2,
     "metadata": {},
     "source": [
      "Facial recognition"
     ]
    },
    {
     "cell_type": "markdown",
     "metadata": {},
     "source": [
      "<img src='Images/facial_recognition.jpg' width='400' align='left'/>"
     ]
    },
    {
     "cell_type": "heading",
     "level": 2,
     "metadata": {},
     "source": [
      "Accelerometer Biometric Competition"
     ]
    },
    {
     "cell_type": "markdown",
     "metadata": {},
     "source": [
      "<img src=\"Images/accele_compet.jpg\" align=\"left\" width=\"400\"/><a href=\"http://www.kaggle.com/c/accelerometer-biometric-competition\">P\u00e1gina do Kaggle</a>"
     ]
    },
    {
     "cell_type": "heading",
     "level": 2,
     "metadata": {},
     "source": [
      "Outros"
     ]
    },
    {
     "cell_type": "markdown",
     "metadata": {},
     "source": [
      "- Speech Recognition\n",
      "- Autonomous vehicles\n",
      "- Play chess\n",
      "- Medical diagnosis\n",
      "- Classifyind DNA sequences\n",
      "- Software Engineering metrics\n",
      "- Recommender systems"
     ]
    },
    {
     "cell_type": "heading",
     "level": 2,
     "metadata": {},
     "source": [
      "Defini\u00e7\u00e3o"
     ]
    },
    {
     "cell_type": "markdown",
     "metadata": {},
     "source": [
      "O que h\u00e1 em comum entre esses problemas? Alguns pontos:\n",
      "- Dif\u00edceis(imposs\u00edveis?) de formalizar\n",
      "- Se formaliz\u00e1vel, invi\u00e1vel computacionalmente - chess\n",
      "- Humanos aprendem atrav\u00e9s da experi\u00eancia\n",
      "\n",
      "**Machine Learning**, Tom Mitchell\n",
      "> **Definition**: *A computer program is said to **learn** from experience E with respect to some class of tasks T and performance measure P, if its performance at tasks in T, as measured by P, improves with experience E.*\n",
      "\n",
      "Machine Learning, ent\u00e3o, \u00e9 a \u00e1rea que estuda os sistemas que aprendem, de acordo com a defini\u00e7\u00e3o acima."
     ]
    },
    {
     "cell_type": "code",
     "collapsed": false,
     "input": [],
     "language": "python",
     "metadata": {},
     "outputs": []
    }
   ],
   "metadata": {}
  }
 ]
}