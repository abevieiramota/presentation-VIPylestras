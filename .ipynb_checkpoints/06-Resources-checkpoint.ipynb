{
 "metadata": {
  "name": "",
  "signature": "sha256:3d33ff12c2c6da4c0259b085750868084d8d123ed994a72e8e966f734ad1164e"
 },
 "nbformat": 3,
 "nbformat_minor": 0,
 "worksheets": [
  {
   "cells": [
    {
     "cell_type": "heading",
     "level": 1,
     "metadata": {},
     "source": [
      "Papers"
     ]
    },
    {
     "cell_type": "markdown",
     "metadata": {},
     "source": [
      "- [Scikit-learn: Machine Learning in Python](http://arxiv.org/pdf/1201.0490.pdf)\n",
      "- [API design for machine learning software: experiences from the scikit-learn project](http://arxiv.org/abs/1309.0238)"
     ]
    },
    {
     "cell_type": "heading",
     "level": 1,
     "metadata": {},
     "source": [
      "Blogs"
     ]
    },
    {
     "cell_type": "markdown",
     "metadata": {},
     "source": [
      "- http://glowingpython.blogspot.com.br/\n",
      "- http://blog.olgabotvinnik.com/\n",
      "- http://jakevdp.github.io/\n",
      "- http://fastml.com/"
     ]
    },
    {
     "cell_type": "heading",
     "level": 1,
     "metadata": {},
     "source": [
      "Ebooks"
     ]
    },
    {
     "cell_type": "markdown",
     "metadata": {},
     "source": [
      "- http://metaoptimize.com/qa/questions/186/good-freely-available-textbooks-on-machine-learning\n",
      "- http://www.quora.com/Machine-Learning/What-are-some-good-resources-for-learning-about-machine-learning"
     ]
    },
    {
     "cell_type": "heading",
     "level": 1,
     "metadata": {},
     "source": [
      "Lecture Notes"
     ]
    },
    {
     "cell_type": "markdown",
     "metadata": {},
     "source": [
      "- http://ocw.mit.edu/courses/electrical-engineering-and-computer-science/6-867-machine-learning-fall-2006/lecture-notes/"
     ]
    },
    {
     "cell_type": "heading",
     "level": 1,
     "metadata": {},
     "source": [
      "Courses"
     ]
    },
    {
     "cell_type": "markdown",
     "metadata": {},
     "source": [
      "- http://videolectures.net/stanfordcs229f07_machine_learning/\n",
      "- https://www.coursera.org/course/predmachlearn"
     ]
    }
   ],
   "metadata": {}
  }
 ]
}