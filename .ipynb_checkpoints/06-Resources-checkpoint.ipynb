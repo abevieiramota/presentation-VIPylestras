{
 "metadata": {
  "name": "",
  "signature": "sha256:39023b514ba4324897f3e3d6267af7c6b9aad4576974eff5198ab27c3d9e6fad"
 },
 "nbformat": 3,
 "nbformat_minor": 0,
 "worksheets": [
  {
   "cells": [
    {
     "cell_type": "heading",
     "level": 1,
     "metadata": {},
     "source": [
      "Papers"
     ]
    },
    {
     "cell_type": "markdown",
     "metadata": {},
     "source": [
      "- [Scikit-learn: Machine Learning in Python](http://arxiv.org/pdf/1201.0490.pdf)\n",
      "- [API design for machine learning software: experiences from the scikit-learn project](http://arxiv.org/abs/1309.0238)"
     ]
    },
    {
     "cell_type": "code",
     "collapsed": false,
     "input": [],
     "language": "python",
     "metadata": {},
     "outputs": []
    }
   ],
   "metadata": {}
  }
 ]
}