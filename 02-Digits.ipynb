{
 "metadata": {
  "name": "",
  "signature": "sha256:91115fa19e7f9692c21d1857dc4d814a22173fd667cfcfa58fee2e2b7fad62b9"
 },
 "nbformat": 3,
 "nbformat_minor": 0,
 "worksheets": [
  {
   "cells": [
    {
     "cell_type": "code",
     "collapsed": false,
     "input": [
      "from sklearn import datasets, svm, metrics, cross_validation\n",
      "from matplotlib import pyplot as pl\n",
      "import numpy as np\n",
      "import pickle\n",
      "%matplotlib inline\n",
      "%run util.py"
     ],
     "language": "python",
     "metadata": {},
     "outputs": [],
     "prompt_number": 11
    },
    {
     "cell_type": "heading",
     "level": 3,
     "metadata": {},
     "source": [
      "Carregando os dados"
     ]
    },
    {
     "cell_type": "code",
     "collapsed": false,
     "input": [
      "digitos = datasets.load_digits()"
     ],
     "language": "python",
     "metadata": {},
     "outputs": [],
     "prompt_number": 2
    },
    {
     "cell_type": "heading",
     "level": 3,
     "metadata": {},
     "source": [
      "Imagem como matriz de 64 pixels(8x8)"
     ]
    },
    {
     "cell_type": "code",
     "collapsed": false,
     "input": [
      "digitos.data[5]"
     ],
     "language": "python",
     "metadata": {},
     "outputs": [
      {
       "metadata": {},
       "output_type": "pyout",
       "prompt_number": 17,
       "text": [
        "array([  0.,   0.,  12.,  10.,   0.,   0.,   0.,   0.,   0.,   0.,  14.,\n",
        "        16.,  16.,  14.,   0.,   0.,   0.,   0.,  13.,  16.,  15.,  10.,\n",
        "         1.,   0.,   0.,   0.,  11.,  16.,  16.,   7.,   0.,   0.,   0.,\n",
        "         0.,   0.,   4.,   7.,  16.,   7.,   0.,   0.,   0.,   0.,   0.,\n",
        "         4.,  16.,   9.,   0.,   0.,   0.,   5.,   4.,  12.,  16.,   4.,\n",
        "         0.,   0.,   0.,   9.,  16.,  16.,  10.,   0.,   0.])"
       ]
      }
     ],
     "prompt_number": 17
    },
    {
     "cell_type": "heading",
     "level": 3,
     "metadata": {},
     "source": [
      "Imagem"
     ]
    },
    {
     "cell_type": "code",
     "collapsed": false,
     "input": [
      "show_digits(digitos, 0, 20)"
     ],
     "language": "python",
     "metadata": {},
     "outputs": [
      {
       "metadata": {},
       "output_type": "display_data",
       "png": "[encoded data removed]",
       "text": [
        "<matplotlib.figure.Figure at 0x7f88cd0f9190>"
       ]
      }
     ],
     "prompt_number": 19
    },
    {
     "cell_type": "heading",
     "level": 3,
     "metadata": {},
     "source": [
      "Parti\u00e7\u00e3o dos dados"
     ]
    },
    {
     "cell_type": "markdown",
     "metadata": {},
     "source": [
      "Realiza-se um split randomico dos dados, com 60% dos dados para treino e 40% para teste."
     ]
    },
    {
     "cell_type": "code",
     "collapsed": false,
     "input": [
      "X_train, X_test, y_train, y_test = cross_validation.train_test_split(digitos.data,\n",
      "                                                                     digitos.target,\n",
      "                                                                     test_size=.4)"
     ],
     "language": "python",
     "metadata": {},
     "outputs": [],
     "prompt_number": 5
    },
    {
     "cell_type": "heading",
     "level": 3,
     "metadata": {},
     "source": [
      "Treinamento do modelo"
     ]
    },
    {
     "cell_type": "code",
     "collapsed": false,
     "input": [
      "model = svm.SVC(gamma=0.001)\n",
      "model.fit(X_train, y_train)\n",
      "\n",
      "pickle.dump(model, open('model', 'w'))"
     ],
     "language": "python",
     "metadata": {},
     "outputs": [],
     "prompt_number": 12
    },
    {
     "cell_type": "heading",
     "level": 3,
     "metadata": {},
     "source": [
      "Testando o modelo"
     ]
    },
    {
     "cell_type": "code",
     "collapsed": false,
     "input": [
      "y_predito = model.predict(X_test)"
     ],
     "language": "python",
     "metadata": {},
     "outputs": [],
     "prompt_number": 7
    },
    {
     "cell_type": "heading",
     "level": 4,
     "metadata": {},
     "source": [
      "M\u00e9tricas de classifica\u00e7\u00e3o"
     ]
    },
    {
     "cell_type": "code",
     "collapsed": false,
     "input": [
      "print metrics.classification_report(y_test, y_predito)"
     ],
     "language": "python",
     "metadata": {},
     "outputs": [
      {
       "output_type": "stream",
       "stream": "stdout",
       "text": [
        "             precision    recall  f1-score   support\n",
        "\n",
        "          0       1.00      1.00      1.00        63\n",
        "          1       0.99      1.00      0.99        71\n",
        "          2       1.00      1.00      1.00        80\n",
        "          3       0.99      0.99      0.99        84\n",
        "          4       1.00      1.00      1.00        69\n",
        "          5       1.00      0.99      0.99        77\n",
        "          6       0.99      1.00      0.99        66\n",
        "          7       0.97      1.00      0.99        73\n",
        "          8       1.00      0.98      0.99        65\n",
        "          9       1.00      0.97      0.99        71\n",
        "\n",
        "avg / total       0.99      0.99      0.99       719\n",
        "\n"
       ]
      }
     ],
     "prompt_number": 8
    },
    {
     "cell_type": "heading",
     "level": 4,
     "metadata": {},
     "source": [
      "Matriz de confus\u00e3o"
     ]
    },
    {
     "cell_type": "markdown",
     "metadata": {},
     "source": [
      "Matriz cujas colunas representam as classes preditas, e as linhas as classes reais"
     ]
    },
    {
     "cell_type": "code",
     "collapsed": false,
     "input": [
      "cm = metrics.confusion_matrix(y_test, y_predito)\n",
      "\n",
      "cms = np.zeros((11, 11))\n",
      "cms[0, :] = np.arange(-1, 10, 1)\n",
      "cms[:, 0] = np.arange(-1, 10, 1).reshape((11,))\n",
      "cms[1:, 1:] = cm\n",
      "print cms"
     ],
     "language": "python",
     "metadata": {},
     "outputs": [
      {
       "output_type": "stream",
       "stream": "stdout",
       "text": [
        "[[ -1.   0.   1.   2.   3.   4.   5.   6.   7.   8.   9.]\n",
        " [  0.  63.   0.   0.   0.   0.   0.   0.   0.   0.   0.]\n",
        " [  1.   0.  71.   0.   0.   0.   0.   0.   0.   0.   0.]\n",
        " [  2.   0.   0.  80.   0.   0.   0.   0.   0.   0.   0.]\n",
        " [  3.   0.   0.   0.  83.   0.   0.   0.   1.   0.   0.]\n",
        " [  4.   0.   0.   0.   0.  69.   0.   0.   0.   0.   0.]\n",
        " [  5.   0.   0.   0.   0.   0.  76.   1.   0.   0.   0.]\n",
        " [  6.   0.   0.   0.   0.   0.   0.  66.   0.   0.   0.]\n",
        " [  7.   0.   0.   0.   0.   0.   0.   0.  73.   0.   0.]\n",
        " [  8.   0.   1.   0.   0.   0.   0.   0.   0.  64.   0.]\n",
        " [  9.   0.   0.   0.   1.   0.   0.   0.   1.   0.  69.]]\n"
       ]
      }
     ],
     "prompt_number": 9
    },
    {
     "cell_type": "code",
     "collapsed": false,
     "input": [
      "show_confusion_matrix(cm)"
     ],
     "language": "python",
     "metadata": {},
     "outputs": [
      {
       "metadata": {},
       "output_type": "display_data",
       "png": "[encoded data removed]",
       "text": [
        "<matplotlib.figure.Figure at 0x7f88cd0e6650>"
       ]
      }
     ],
     "prompt_number": 10
    }
   ],
   "metadata": {}
  }
 ]
}